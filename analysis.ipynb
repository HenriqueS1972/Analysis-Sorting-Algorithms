{
 "cells": [
  {
   "cell_type": "code",
   "execution_count": 350,
   "metadata": {},
   "outputs": [],
   "source": [
    "import pandas as pd\n",
    "import matplotlib.pyplot as plt\n",
    "import numpy as np"
   ]
  },
  {
   "cell_type": "code",
   "execution_count": 351,
   "metadata": {},
   "outputs": [],
   "source": [
    "def normalizar(df, variable, funcao):\n",
    "    if funcao == 'n':\n",
    "        casoTeorico = [size for size in df['Array Size']]\n",
    "    elif funcao == 'nlogn':\n",
    "        casoTeorico = [size * np.log(size) for size in df['Array Size']]\n",
    "    elif funcao == 'n2':\n",
    "        casoTeorico = [size * size for size in df['Array Size']]\n",
    "\n",
    "    # Normalizar os dados teóricos para comparação com os empíricos\n",
    "    maxEmpirico = max(df[variable])\n",
    "    maxTeorico = max(casoTeorico)\n",
    "    casoTeorico = [time * (maxEmpirico / maxTeorico) for time in casoTeorico]\n",
    "\n",
    "    return casoTeorico"
   ]
  },
  {
   "cell_type": "code",
   "execution_count": 352,
   "metadata": {},
   "outputs": [],
   "source": [
    "def plot(df, casoTeorico, title, xlabel, ylabel, variable):\n",
    "    plt.figure(figsize=(10, 5))\n",
    "    plt.plot(df['Array Size'], df[variable], marker='o', color='b')\n",
    "    plt.plot(df['Array Size'], casoTeorico, marker='o', color='r', linestyle='--')\n",
    "    plt.title(title)\n",
    "    plt.xlabel(xlabel)\n",
    "    plt.ylabel(ylabel)\n",
    "    plt.grid(True)\n",
    "    plt.legend(['Caso Empírico', 'Caso Teórico'])\n",
    "\n",
    "    plt.show()\n",
    "\n",
    "def plotAllAlgorithms(df, title, xlabel, ylabel, variable):\n",
    "    plt.figure(figsize=(10, 5))\n",
    "    plt.plot(df[0]['Array Size'], df[0][variable], marker='o', color='b')\n",
    "    plt.plot(df[1]['Array Size'], df[1][variable], marker='o', color='g')\n",
    "    plt.plot(df[2]['Array Size'], df[2][variable], marker='o', color='r')\n",
    "    plt.plot(df[3]['Array Size'], df[3][variable], marker='o', color='y')\n",
    "    plt.plot(df[4]['Array Size'], df[4][variable], marker='o', color='m')\n",
    "    plt.title(title)\n",
    "    plt.xlabel(xlabel)\n",
    "    plt.ylabel(ylabel)\n",
    "    plt.grid(True)\n",
    "    plt.legend(['InsertionSort', 'SelectionSort', 'MergeSort', 'HeapSort', 'QuickSort'])\n",
    "\n",
    "    plt.show()\n",
    "\n",
    "def plotWithoutSelectionSort(df, title, xlabel, ylabel, variable):\n",
    "    plt.figure(figsize=(10, 5))\n",
    "    plt.plot(df[0]['Array Size'], df[0][variable], marker='o', color='b')\n",
    "    plt.plot(df[2]['Array Size'], df[2][variable], marker='o', color='r')\n",
    "    plt.plot(df[3]['Array Size'], df[3][variable], marker='o', color='y')\n",
    "    plt.plot(df[4]['Array Size'], df[4][variable], marker='o', color='m')\n",
    "    plt.title(title)\n",
    "    plt.xlabel(xlabel)\n",
    "    plt.ylabel(ylabel)\n",
    "    plt.grid(True)\n",
    "    plt.legend(['InsertionSort', 'MergeSort', 'HeapSort', 'QuickSort'])\n",
    "\n",
    "    plt.show()\n",
    "\n",
    "def plotStandardDeviation(df, title, variable):\n",
    "    plt.figure(figsize=(10, 5))\n",
    "    plt.plot(df['Array Size'], df[variable], marker='o', color='b')\n",
    "    plt.title(title)\n",
    "    plt.xlabel('Tamanho do Array')\n",
    "    plt.ylabel('Tempo de Execução (s)')\n",
    "    plt.grid(True)\n",
    "\n",
    "    plt.show()"
   ]
  },
  {
   "cell_type": "code",
   "execution_count": 353,
   "metadata": {},
   "outputs": [],
   "source": [
    "insertionSortMelhorCaso = pd.read_csv('insertion_sort_melhor_caso.csv')\n",
    "insertionSortPiorCaso = pd.read_csv('insertion_sort_pior_caso.csv')\n",
    "insertionSortCasoMedio = pd.read_csv('insertion_sort_caso_medio.csv')\n",
    "\n",
    "selectionSortMelhorCaso = pd.read_csv('selection_sort_melhor_caso.csv')\n",
    "selectionSortPiorCaso = pd.read_csv('selection_sort_pior_caso.csv')\n",
    "selectionSortCasoMedio = pd.read_csv('selection_sort_caso_medio.csv')\n",
    "\n",
    "mergeSortMelhorCaso = pd.read_csv('merge_sort_melhor_caso.csv')\n",
    "mergeSortPiorCaso = pd.read_csv('merge_sort_pior_caso.csv')\n",
    "mergeSortCasoMedio = pd.read_csv('merge_sort_caso_medio.csv')\n",
    "\n",
    "heapSortMelhorCaso = pd.read_csv('heap_sort_melhor_caso.csv')\n",
    "heapSortPiorCaso = pd.read_csv('heap_sort_pior_caso.csv')\n",
    "heapSortCasoMedio = pd.read_csv('heap_sort_caso_medio.csv')\n",
    "\n",
    "quickSortMelhorCaso = pd.read_csv('quick_sort_melhor_caso.csv')\n",
    "quickSortPiorCaso = pd.read_csv('quick_sort_pior_caso.csv')\n",
    "quickSortCasoMedio = pd.read_csv('quick_sort_caso_medio.csv')"
   ]
  },
  {
   "cell_type": "code",
   "execution_count": 354,
   "metadata": {},
   "outputs": [],
   "source": [
    "insertionSortAnaliseCasoMedio = insertionSortCasoMedio.groupby('Array Size').agg(\n",
    "    Mean_Execution_Time=('Execution Time (seconds)', lambda x: round(x.mean(), 4)),\n",
    "    Std_Execution_Time=('Execution Time (seconds)', lambda x: round(x.std(), 4)),\n",
    "    Mean_Comparisons=('Comparisons', lambda x: round(x.mean(), 4)),\n",
    "    Std_Comparisons=('Comparisons', lambda x: round(x.std(), 4)),\n",
    "    Mean_Swaps=(' Swaps', lambda x: round(x.mean(), 4)),\n",
    "    Std_Swaps=(' Swaps', lambda x: round(x.std(), 4))\n",
    ").reset_index()\n",
    "\n",
    "insertionSortAnaliseCasoMedio.to_csv('insertionSortEstatisticas.csv', index=False) # Salva os dados estatísticos do InsertionSort\n",
    "\n",
    "selectionSortAnaliseCasoMedio = selectionSortCasoMedio.groupby('Array Size').agg(\n",
    "    Mean_Execution_Time=('Execution Time (seconds)', lambda x: round(x.mean(), 4)),\n",
    "    Std_Execution_Time=('Execution Time (seconds)', lambda x: round(x.std(), 4)),\n",
    "    Mean_Comparisons=('Comparisons', lambda x: round(x.mean(), 4)),\n",
    "    Std_Comparisons=('Comparisons', lambda x: round(x.std(), 4)),\n",
    "    Mean_Swaps=(' Swaps', lambda x: round(x.mean(), 4)),\n",
    "    Std_Swaps=(' Swaps', lambda x: round(x.std(), 4))\n",
    ").reset_index()\n",
    "\n",
    "selectionSortAnaliseCasoMedio.to_csv('selectionSortEstatisticas.csv', index=False) # Salva os dados estatísticos do SelectionSort\n",
    "\n",
    "mergeSortAnaliseCasoMedio = mergeSortCasoMedio.groupby('Array Size').agg(\n",
    "    Mean_Execution_Time=('Execution Time (seconds)', lambda x: round(x.mean(), 4)),\n",
    "    Std_Execution_Time=('Execution Time (seconds)', lambda x: round(x.std(), 4)),\n",
    "    Mean_Comparisons=('Comparisons', lambda x: round(x.mean(), 4)),\n",
    "    Std_Comparisons=('Comparisons', lambda x: round(x.std(), 4)),\n",
    "    Mean_Swaps=(' Swaps', lambda x: round(x.mean(), 4)),\n",
    "    Std_Swaps=(' Swaps', lambda x: round(x.std(), 4))\n",
    ").reset_index()\n",
    "\n",
    "mergeSortAnaliseCasoMedio.to_csv('mergeSortEstatisticas.csv', index=False) # Salva os dados estatísticos do MergeSort\n",
    "\n",
    "heapSortAnaliseCasoMedio = heapSortCasoMedio.groupby('Array Size').agg(\n",
    "    Mean_Execution_Time=('Execution Time (seconds)', lambda x: round(x.mean(), 4)),\n",
    "    Std_Execution_Time=('Execution Time (seconds)', lambda x: round(x.std(), 4)),\n",
    "    Mean_Comparisons=('Comparisons', lambda x: round(x.mean(), 4)),\n",
    "    Std_Comparisons=('Comparisons', lambda x: round(x.std(), 4)),\n",
    "    Mean_Swaps=(' Swaps', lambda x: round(x.mean(), 4)),\n",
    "    Std_Swaps=(' Swaps', lambda x: round(x.std(), 4))\n",
    ").reset_index()\n",
    "\n",
    "heapSortAnaliseCasoMedio.to_csv('heapSortEstatisticas.csv', index=False) # Salva os dados estatísticos do HeapSort\n",
    "\n",
    "quickSortAnaliseCasoMedio = quickSortCasoMedio.groupby('Array Size').agg(\n",
    "    Mean_Execution_Time=('Execution Time (seconds)', lambda x: round(x.mean(), 4)),\n",
    "    Std_Execution_Time=('Execution Time (seconds)', lambda x: round(x.std(), 4)),\n",
    "    Mean_Comparisons=('Comparisons', lambda x: round(x.mean(), 4)),\n",
    "    Std_Comparisons=('Comparisons', lambda x: round(x.std(), 4)),\n",
    "    Mean_Swaps=(' Swaps', lambda x: round(x.mean(), 4)),\n",
    "    Std_Swaps=(' Swaps', lambda x: round(x.std(), 4))\n",
    ").reset_index()\n",
    "\n",
    "quickSortAnaliseCasoMedio.to_csv('quickSortEstatisticas.csv', index=False) # Salva os dados estatísticos do QuickSort"
   ]
  },
  {
   "cell_type": "code",
   "execution_count": 355,
   "metadata": {},
   "outputs": [],
   "source": [
    "melhoresCasos = [insertionSortMelhorCaso, selectionSortMelhorCaso, mergeSortMelhorCaso, heapSortMelhorCaso, quickSortMelhorCaso]\n",
    "pioresCasos = [insertionSortPiorCaso, selectionSortPiorCaso, mergeSortPiorCaso, heapSortPiorCaso, quickSortPiorCaso]\n",
    "casosMedios = [insertionSortAnaliseCasoMedio, selectionSortAnaliseCasoMedio, mergeSortAnaliseCasoMedio, heapSortAnaliseCasoMedio, quickSortAnaliseCasoMedio]"
   ]
  },
  {
   "cell_type": "code",
   "execution_count": null,
   "metadata": {},
   "outputs": [],
   "source": [
    "# Gera gráficos comparando os tempos de execução dos algoritmos de ordenação\n",
    "\n",
    "plotWithoutSelectionSort(melhoresCasos, 'Comparação dos Melhores Casos', 'Tamanho do Array', 'Tempo de Execução (s)', 'Execution Time (seconds)')\n",
    "plotAllAlgorithms(pioresCasos, 'Comparação dos Piores Casos', 'Tamanho do Array', 'Tempo de Execução (s)', 'Execution Time (seconds)')\n",
    "plotAllAlgorithms(casosMedios, 'Comparação dos Casos Médios', 'Tamanho do Array', 'Tempo de Execução (s)', 'Mean_Execution_Time')"
   ]
  },
  {
   "cell_type": "code",
   "execution_count": null,
   "metadata": {},
   "outputs": [],
   "source": [
    "# Gera gráficos do desvio padrão para cada algoritmo baseado no tempo de execução\n",
    "\n",
    "plotStandardDeviation(insertionSortAnaliseCasoMedio, 'Desvio Padrão do InsertionSort', 'Std_Execution_Time')\n",
    "plotStandardDeviation(selectionSortAnaliseCasoMedio, 'Desvio Padrão do SelectionSort', 'Std_Execution_Time')\n",
    "plotStandardDeviation(mergeSortAnaliseCasoMedio, 'Desvio Padrão do MergeSort', 'Std_Execution_Time')\n",
    "plotStandardDeviation(heapSortAnaliseCasoMedio, 'Desvio Padrão do HeapSort', 'Std_Execution_Time')\n",
    "plotStandardDeviation(quickSortAnaliseCasoMedio, 'Desvio Padrão do QuickSort', 'Std_Execution_Time')"
   ]
  },
  {
   "cell_type": "code",
   "execution_count": null,
   "metadata": {},
   "outputs": [],
   "source": [
    "# Gera gráficos do desvio padrão para cada algoritmo baseado no número de comparações\n",
    "\n",
    "plotStandardDeviation(insertionSortAnaliseCasoMedio, 'Desvio Padrão do InsertionSort', 'Std_Comparisons')\n",
    "plotStandardDeviation(selectionSortAnaliseCasoMedio, 'Desvio Padrão do SelectionSort', 'Std_Comparisons')\n",
    "plotStandardDeviation(mergeSortAnaliseCasoMedio, 'Desvio Padrão do MergeSort', 'Std_Comparisons')\n",
    "plotStandardDeviation(heapSortAnaliseCasoMedio, 'Desvio Padrão do HeapSort', 'Std_Comparisons')\n",
    "plotStandardDeviation(quickSortAnaliseCasoMedio, 'Desvio Padrão do QuickSort', 'Std_Comparisons')"
   ]
  },
  {
   "cell_type": "code",
   "execution_count": null,
   "metadata": {},
   "outputs": [],
   "source": [
    "# Gera os gráficos de melhor, pior e caso médio do InsertionSort baseado em tempo de execução em segundos\n",
    "\n",
    "melhorCasoTeorico = normalizar(insertionSortMelhorCaso, 'Execution Time (seconds)', 'n')\n",
    "piorCasoTeorico = normalizar(insertionSortPiorCaso, 'Execution Time (seconds)', 'n2')\n",
    "casoMedioTeorico = normalizar(insertionSortAnaliseCasoMedio, 'Mean_Execution_Time', 'n2')\n",
    "\n",
    "plot(insertionSortMelhorCaso, melhorCasoTeorico, 'InsertionSort Melhor Caso', 'Tamanho do Array', 'Tempo de Execução (s)', 'Execution Time (seconds)')\n",
    "plot(insertionSortPiorCaso, piorCasoTeorico, 'InsertionSort Pior Caso', 'Tamanho do Array', 'Tempo de Execução (s)', 'Execution Time (seconds)')\n",
    "plot(insertionSortAnaliseCasoMedio, casoMedioTeorico, 'InsertionSort Caso Médio', 'Tamanho do Array', 'Tempo de Execução (s)', 'Mean_Execution_Time')"
   ]
  },
  {
   "cell_type": "code",
   "execution_count": null,
   "metadata": {},
   "outputs": [],
   "source": [
    "# Gera os gráficos de melhor, pior e caso médio do SelectionSort baseado em tempo de execução em segundos\n",
    "\n",
    "melhorCasoTeorico = normalizar(selectionSortMelhorCaso, 'Execution Time (seconds)', 'n2')\n",
    "piorCasoTeorico = normalizar(selectionSortPiorCaso, 'Execution Time (seconds)', 'n2')\n",
    "casoMedioTeorico = normalizar(selectionSortAnaliseCasoMedio, 'Mean_Execution_Time', 'n2')\n",
    "\n",
    "plot(selectionSortMelhorCaso, melhorCasoTeorico, 'SelectionSort Melhor Caso', 'Tamanho do Array', 'Tempo de Execução (s)', 'Execution Time (seconds)')\n",
    "plot(selectionSortPiorCaso, piorCasoTeorico, 'SelectionSort Pior Caso', 'Tamanho do Array', 'Tempo de Execução (s)', 'Execution Time (seconds)')\n",
    "plot(selectionSortAnaliseCasoMedio, casoMedioTeorico, 'SelectionSort Caso Médio', 'Tamanho do Array', 'Tempo de Execução (s)', 'Mean_Execution_Time')"
   ]
  },
  {
   "cell_type": "code",
   "execution_count": null,
   "metadata": {},
   "outputs": [],
   "source": [
    "# Gera os gráficos de melhor, pior e caso médio do MergeSort baseado em tempo de execução em segundos\n",
    "\n",
    "melhorCasoTeorico = normalizar(mergeSortMelhorCaso, 'Execution Time (seconds)', 'nlogn')\n",
    "piorCasoTeorico = normalizar(mergeSortPiorCaso, 'Execution Time (seconds)', 'nlogn')\n",
    "casoMedioTeorico = normalizar(mergeSortAnaliseCasoMedio, 'Mean_Execution_Time', 'nlogn')\n",
    "\n",
    "plot(mergeSortMelhorCaso, melhorCasoTeorico, 'MergeSort em Vetor Ordenado', 'Tamanho do Array', 'Tempo de Execução (s)', 'Execution Time (seconds)')\n",
    "plot(mergeSortPiorCaso, piorCasoTeorico, 'MergeSort em Vetor Inversamente Ordenado', 'Tamanho do Array', 'Tempo de Execução (s)', 'Execution Time (seconds)')\n",
    "plot(mergeSortAnaliseCasoMedio, casoMedioTeorico, 'MergeSort Caso Médio', 'Tamanho do Array', 'Tempo de Execução (s)', 'Mean_Execution_Time')"
   ]
  },
  {
   "cell_type": "code",
   "execution_count": null,
   "metadata": {},
   "outputs": [],
   "source": [
    "# Gera os gráficos de melhor, pior e caso médio do HeapSort baseado em tempo de execução em segundos\n",
    "\n",
    "melhorCasoTeorico = normalizar(heapSortMelhorCaso, 'Execution Time (seconds)', 'nlogn')\n",
    "piorCasoTeorico = normalizar(heapSortPiorCaso, 'Execution Time (seconds)', 'nlogn')\n",
    "casoMedioTeorico = normalizar(heapSortAnaliseCasoMedio, 'Mean_Execution_Time', 'nlogn')\n",
    "\n",
    "plot(heapSortMelhorCaso, melhorCasoTeorico, 'HeapSort em Vetor Ordenado', 'Tamanho do Array', 'Tempo de Execução (s)', 'Execution Time (seconds)')\n",
    "plot(heapSortPiorCaso, piorCasoTeorico, 'HeapSort em Vetor Inversamente Ordenado', 'Tamanho do Array', 'Tempo de Execução (s)', 'Execution Time (seconds)')\n",
    "plot(heapSortAnaliseCasoMedio, casoMedioTeorico, 'HeapSort Caso Médio', 'Tamanho do Array', 'Tempo de Execução (s)', 'Mean_Execution_Time')"
   ]
  },
  {
   "cell_type": "code",
   "execution_count": null,
   "metadata": {},
   "outputs": [],
   "source": [
    "# Gera os gráficos de melhor, pior e caso médio do QuickSort baseado em tempo de execução em segundos\n",
    "\n",
    "melhorCasoTeorico = normalizar(quickSortMelhorCaso, 'Execution Time (seconds)', 'nlogn')\n",
    "piorCasoTeorico = normalizar(quickSortPiorCaso, 'Execution Time (seconds)', 'n2')\n",
    "casoMedioTeorico = normalizar(quickSortAnaliseCasoMedio, 'Mean_Execution_Time', 'nlogn')\n",
    "\n",
    "plot(quickSortMelhorCaso, melhorCasoTeorico, 'QuickSort Melhor Caso', 'Tamanho do Array', 'Tempo de Execução (s)', 'Execution Time (seconds)')\n",
    "plot(quickSortPiorCaso, piorCasoTeorico, 'QuickSort Pior Caso', 'Tamanho do Array', 'Tempo de Execução (s)', 'Execution Time (seconds)')\n",
    "plot(quickSortAnaliseCasoMedio, casoMedioTeorico, 'QuickSort Caso Médio', 'Tamanho do Array', 'Tempo de Execução (s)', 'Mean_Execution_Time')"
   ]
  },
  {
   "cell_type": "code",
   "execution_count": null,
   "metadata": {},
   "outputs": [],
   "source": [
    "# Gera os gráficos de melhor, pior e caso médio do InsertionSort baseado no número de comparações\n",
    "\n",
    "melhorCasoTeorico = normalizar(insertionSortMelhorCaso, 'Comparisons', 'n')\n",
    "piorCasoTeorico = normalizar(insertionSortPiorCaso, 'Comparisons', 'n2')\n",
    "casoMedioTeorico = normalizar(insertionSortAnaliseCasoMedio, 'Mean_Comparisons', 'n2')\n",
    "\n",
    "plot(insertionSortMelhorCaso, melhorCasoTeorico, 'InsertionSort Melhor Caso', 'Tamanho do Array', 'Comparisons', 'Comparisons')\n",
    "plot(insertionSortPiorCaso, piorCasoTeorico, 'InsertionSort Pior Caso', 'Tamanho do Array', 'Comparisons', 'Comparisons')\n",
    "plot(insertionSortAnaliseCasoMedio, casoMedioTeorico, 'InsertionSort Caso Médio', 'Tamanho do Array', 'Comparisons', 'Mean_Comparisons')"
   ]
  },
  {
   "cell_type": "code",
   "execution_count": null,
   "metadata": {},
   "outputs": [],
   "source": [
    "# Gera os gráficos de melhor, pior e caso médio do SelectionSort baseado no número de comparações\n",
    "\n",
    "melhorCasoTeorico = normalizar(selectionSortMelhorCaso, 'Comparisons', 'n2')\n",
    "piorCasoTeorico = normalizar(selectionSortPiorCaso, 'Comparisons', 'n2')\n",
    "casoMedioTeorico = normalizar(selectionSortAnaliseCasoMedio, 'Mean_Comparisons', 'n2')\n",
    "\n",
    "plot(selectionSortMelhorCaso, melhorCasoTeorico, 'SelectionSort Melhor Caso', 'Tamanho do Array', 'Comparisons', 'Comparisons')\n",
    "plot(selectionSortPiorCaso, piorCasoTeorico, 'SelectionSort Pior Caso', 'Tamanho do Array', 'Comparisons', 'Comparisons')\n",
    "plot(selectionSortAnaliseCasoMedio, casoMedioTeorico, 'SelectionSort Caso Médio', 'Tamanho do Array', 'Comparisons', 'Mean_Comparisons')"
   ]
  },
  {
   "cell_type": "code",
   "execution_count": null,
   "metadata": {},
   "outputs": [],
   "source": [
    "# Gera os gráficos de melhor, pior e caso médio do MergeSort baseado no número de comparações\n",
    "\n",
    "melhorCasoTeorico = normalizar(mergeSortMelhorCaso, 'Comparisons', 'nlogn')\n",
    "piorCasoTeorico = normalizar(mergeSortPiorCaso, 'Comparisons', 'nlogn')\n",
    "casoMedioTeorico = normalizar(mergeSortAnaliseCasoMedio, 'Mean_Comparisons', 'nlogn')\n",
    "\n",
    "plot(mergeSortMelhorCaso, melhorCasoTeorico, 'MergeSort em Vetor Ordenado', 'Tamanho do Array', 'Comparisons', 'Comparisons')\n",
    "plot(mergeSortPiorCaso, piorCasoTeorico, 'MergeSort em Vetor Inversamente Ordenado', 'Tamanho do Array', 'Comparisons', 'Comparisons')\n",
    "plot(mergeSortAnaliseCasoMedio, casoMedioTeorico, 'MergeSort Caso Médio', 'Tamanho do Array', 'Comparisons', 'Mean_Comparisons')"
   ]
  },
  {
   "cell_type": "code",
   "execution_count": null,
   "metadata": {},
   "outputs": [],
   "source": [
    "# Gera os gráficos de melhor, pior e caso médio do HeapSort baseado no número de comparações\n",
    "\n",
    "melhorCasoTeorico = normalizar(heapSortMelhorCaso, 'Comparisons', 'nlogn')\n",
    "piorCasoTeorico = normalizar(heapSortPiorCaso, 'Comparisons', 'nlogn')\n",
    "casoMedioTeorico = normalizar(heapSortAnaliseCasoMedio, 'Mean_Comparisons', 'nlogn')\n",
    "\n",
    "plot(heapSortMelhorCaso, melhorCasoTeorico, 'HeapSort em Vetor Ordenado', 'Tamanho do Array', 'Comparisons', 'Comparisons')\n",
    "plot(heapSortPiorCaso, piorCasoTeorico, 'HeapSort em Vetor Inversamente Ordenado', 'Tamanho do Array', 'Comparisons', 'Comparisons')\n",
    "plot(heapSortAnaliseCasoMedio, casoMedioTeorico, 'HeapSort Caso Médio', 'Tamanho do Array', 'Comparisons', 'Mean_Comparisons')"
   ]
  },
  {
   "cell_type": "code",
   "execution_count": null,
   "metadata": {},
   "outputs": [],
   "source": [
    "# Gera os gráficos de melhor, pior e caso médio do QuickSort baseado no número de comparações\n",
    "\n",
    "melhorCasoTeorico = normalizar(quickSortMelhorCaso, 'Comparisons', 'nlogn')\n",
    "piorCasoTeorico = normalizar(quickSortPiorCaso, 'Comparisons', 'n2')\n",
    "casoMedioTeorico = normalizar(quickSortAnaliseCasoMedio, 'Mean_Comparisons', 'nlogn')\n",
    "\n",
    "plot(quickSortMelhorCaso, melhorCasoTeorico, 'QuickSort Melhor Caso', 'Tamanho do Array', 'Comparisons', 'Comparisons')\n",
    "plot(quickSortPiorCaso, piorCasoTeorico, 'QuickSort Pior Caso', 'Tamanho do Array', 'Comparisons', 'Comparisons')\n",
    "plot(quickSortAnaliseCasoMedio, casoMedioTeorico, 'QuickSort Caso Médio', 'Tamanho do Array', 'Comparisons', 'Mean_Comparisons')"
   ]
  }
 ],
 "metadata": {
  "kernelspec": {
   "display_name": "env",
   "language": "python",
   "name": "python3"
  },
  "language_info": {
   "codemirror_mode": {
    "name": "ipython",
    "version": 3
   },
   "file_extension": ".py",
   "mimetype": "text/x-python",
   "name": "python",
   "nbconvert_exporter": "python",
   "pygments_lexer": "ipython3",
   "version": "3.12.7"
  }
 },
 "nbformat": 4,
 "nbformat_minor": 2
}
